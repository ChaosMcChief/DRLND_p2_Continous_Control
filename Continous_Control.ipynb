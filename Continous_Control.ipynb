{
 "cells": [
  {
   "cell_type": "markdown",
   "metadata": {},
   "source": [
    "# Project 2: Continous control\n",
    "\n",
    "---\n",
    "\n",
    "In this notebook, we start and interact with the environment to train agents or watch them control a multi-joint robotic arm.\n",
    "\n",
    "### 1. Necessary imports and defining the constants\n",
    "\n",
    "We begin by importing some necessary packages.  If the code cell below returns an error, please revisit the project instructions to double-check that you have installed [Unity ML-Agents](https://github.com/Unity-Technologies/ml-agents/blob/master/docs/Installation.md) and [NumPy](http://www.numpy.org/)."
   ]
  },
  {
   "cell_type": "code",
   "execution_count": 1,
   "metadata": {},
   "outputs": [],
   "source": [
    "from collections import deque\n",
    "import pickle\n",
    "\n",
    "import numpy as np\n",
    "import pandas as pd\n",
    "import torch\n",
    "from unityagents import UnityEnvironment\n",
    "from tqdm import tqdm\n",
    "import matplotlib.pyplot as plt\n",
    "\n",
    "from ddpg_agent import Agent\n",
    "import Config\n",
    "\n",
    "%matplotlib inline \n",
    "\n",
    "# Initialize the config in which all hyperparams are stored\n",
    "config = Config.config()"
   ]
  },
  {
   "cell_type": "markdown",
   "metadata": {},
   "source": [
    "Next, we will define all the constants relevant to this notebook. This is the only cell you need to modify. The rest of the notebook should run without any modifications.\n",
    "Change the `env_file_name` parameter to match the location of the Unity environment that you downloaded.\n",
    "\n",
    "- **Mac**: `\"path/to/Reacher.app\"`\n",
    "- **Windows** (x86): `\"path/to/Reacher_Windows_x86/Reacher.exe\"`\n",
    "- **Windows** (x86_64): `\"path/to/Reacher_Windows_x86_64/Reacher.exe\"`\n",
    "- **Linux** (x86): `\"path/to/Reacher_Linux/Reacher.x86\"`\n",
    "- **Linux** (x86_64): `\"path/to/Reacher_Linux/Reacher.x86_64\"`\n",
    "- **Linux** (x86, headless): `\"path/to/Reacher_Linux_NoVis/Reacher.x86\"`\n",
    "- **Linux** (x86_64, headless): `\"path/to/Reacher_Linux_NoVis/Reacher.x86_64\"`\n",
    "\n",
    "For instance, if you are using a Mac, then you downloaded `Reacher.app`.  If this file is in the same folder as the notebook, then the line below should appear as follows:\n",
    "```\n",
    "env = UnityEnvironment(file_name=\"Reacher.app\")\n",
    "```"
   ]
  },
  {
   "cell_type": "code",
   "execution_count": 2,
   "metadata": {},
   "outputs": [],
   "source": [
    "env_file_name = 'Reacher_Windows_x86_64_twenty/Reacher.exe' # Path to the Unity environment.\n",
    "n_episodes = 500                                            # Number of episodes to train on\n",
    "n_episodes_to_watch = 1                                     # Numbers of episodes to watch the trained agent"
   ]
  },
  {
   "cell_type": "markdown",
   "metadata": {},
   "source": [
    "### 2. Setting up the environment and watch an untrained agent"
   ]
  },
  {
   "cell_type": "markdown",
   "metadata": {},
   "source": [
    "In this step we start the environment, save the `brain_name`, which we need to interact with the environment and save the size of the state- and action-space."
   ]
  },
  {
   "cell_type": "code",
   "execution_count": 3,
   "metadata": {},
   "outputs": [
    {
     "name": "stderr",
     "output_type": "stream",
     "text": [
      "INFO:unityagents:\n",
      "'Academy' started successfully!\n",
      "Unity Academy name: Academy\n",
      "        Number of Brains: 1\n",
      "        Number of External Brains : 1\n",
      "        Lesson number : 0\n",
      "        Reset Parameters :\n",
      "\t\tgoal_speed -> 1.0\n",
      "\t\tgoal_size -> 5.0\n",
      "Unity brain name: ReacherBrain\n",
      "        Number of Visual Observations (per agent): 0\n",
      "        Vector Observation space type: continuous\n",
      "        Vector Observation space size (per agent): 33\n",
      "        Number of stacked Vector Observation: 1\n",
      "        Vector Action space type: continuous\n",
      "        Vector Action space size (per agent): 4\n",
      "        Vector Action descriptions: , , , \n"
     ]
    }
   ],
   "source": [
    "env = UnityEnvironment(file_name=env_file_name)\n",
    "brain_name = env.brain_names[0]\n",
    "brain = env.brains[brain_name]\n",
    "env_info = env.reset(train_mode=True)[brain_name]\n",
    "\n",
    "# number of actions\n",
    "action_size = brain.vector_action_space_size\n",
    "\n",
    "# dimension of the state-space \n",
    "num_agents = env_info.vector_observations.shape[0]\n",
    "state_size = env_info.vector_observations.shape[1]"
   ]
  },
  {
   "cell_type": "markdown",
   "metadata": {},
   "source": [
    "For comparison we'll let an agent take random actions and observe the score."
   ]
  },
  {
   "cell_type": "code",
   "execution_count": null,
   "metadata": {},
   "outputs": [],
   "source": [
    "env_info = env.reset(train_mode=True)[brain_name]      # reset the environment    \n",
    "states = env_info.vector_observations                  # get the current state (for each agent)\n",
    "scores = np.zeros(num_agents)                          # initialize the score (for each agent)\n",
    "while True:\n",
    "    actions = np.random.randn(num_agents, action_size) # select an action (for each agent)\n",
    "    actions = np.clip(actions, -1, 1)                  # all actions between -1 and 1\n",
    "    env_info = env.step(actions)[brain_name]           # send all actions to tne environment\n",
    "    next_states = env_info.vector_observations         # get next state (for each agent)\n",
    "    rewards = env_info.rewards                         # get reward (for each agent)\n",
    "    dones = env_info.local_done                        # see if episode finished\n",
    "    scores += env_info.rewards                         # update the score (for each agent)\n",
    "    states = next_states                               # roll over states to next time step\n",
    "    if np.any(dones):                                  # exit loop if episode finished\n",
    "        break\n",
    "print('Total score (averaged over agents) this episode: {}'.format(np.mean(scores)))"
   ]
  },
  {
   "cell_type": "markdown",
   "metadata": {},
   "source": [
    "### 3. Train an agent\n",
    "\n",
    "In the next code cells we define a training-method and anfter that initialize and train agents. The trained model-parameters will be saved every 250 episodes in `checkpoint_{model_suff}.pth`. It loops through all specified agent-parameters. If `per==True` it will prepopulate the memory with experiences from random actions before training.\n",
    "\n",
    "Training will be done on the gpu if one is available.\n",
    "\n",
    "If you just want to analyse already trained agent, you can skip this section."
   ]
  },
  {
   "cell_type": "code",
   "execution_count": 6,
   "metadata": {},
   "outputs": [],
   "source": [
    "def train_agent(n_episodes=2000):\n",
    "    \"\"\"Deep Q-Learning.\n",
    "    \n",
    "    Params\n",
    "    ======\n",
    "        n_episodes (int): maximum number of training episodes\n",
    "    \"\"\"\n",
    "    \n",
    "    scores = []                        # list containing scores from each episode\n",
    "    scores_window = deque(maxlen=100)  # last 100 scores\n",
    "    \n",
    "    \n",
    "    for i_episode in range(1, n_episodes+1):\n",
    "        env_info = env.reset(train_mode=True)[brain_name] # reset the environment\n",
    "        state = env_info.vector_observations\n",
    "        score = np.zeros(agent.num_agents)\n",
    "\n",
    "        # Decay the action-noise and reset randomer\n",
    "        agent.reset()\n",
    "\n",
    "        while True:\n",
    "            \n",
    "            action = agent.act(state)\n",
    "            env_info = env.step(action)[brain_name]         # send the action to the environment\n",
    "            next_state = env_info.vector_observations       # get the next state\n",
    "            reward = env_info.rewards                       # get the reward\n",
    "            done = env_info.local_done                      # see if episode has finished\n",
    "            \n",
    "            agent.step(state, action, reward, next_state, done)\n",
    "            state = next_state\n",
    "            score += np.array(reward)\n",
    "           \n",
    "            if np.any(done): \n",
    "                break \n",
    "\n",
    "        scores_window.append(np.mean(score))       # save most recent score\n",
    "        scores.append(np.mean(score))              # save most recent score\n",
    "        print('\\rEpisode {}\\tAverage Score: {:.2f}\\tLast Score: {:.2f}'.format(i_episode, np.mean(scores_window), scores[-1]), end=\"\")\n",
    "        if i_episode % 25 == 0:\n",
    "            print('\\rEpisode {}\\tAverage Score: {:.2f}'.format(i_episode, np.mean(scores_window)))\n",
    "            torch.save(agent.critic.state_dict(), \"checkpoint_critic.pth\")\n",
    "            torch.save(agent.actor.state_dict(), \"checkpoint_actor.pth\")\n",
    "            pickle.dump(scores, open(\"Scores.pkl\", 'wb'))\n",
    "        if (np.mean(scores_window)>=30) or (i_episode>=n_episodes+1):\n",
    "            print('\\nEnvironment solved in {:d} episodes!\\tAverage Score: {:.2f}'.format(i_episode, np.mean(scores_window)))\n",
    "            torch.save(agent.critic.state_dict(), \"checkpoint_critic.pth\")\n",
    "            torch.save(agent.actor.state_dict(), \"checkpoint_actor.pth\")\n",
    "            pickle.dump(scores, open(\"Scores.pkl\", 'wb'))\n",
    "            break\n",
    "    return scores"
   ]
  },
  {
   "cell_type": "code",
   "execution_count": 7,
   "metadata": {},
   "outputs": [
    {
     "name": "stdout",
     "output_type": "stream",
     "text": [
      "Episode 1\tAverage Score: 32.13\tLast Score: 32.13\n",
      "Environment solved in 1 episodes!\tAverage Score: 32.13\n"
     ]
    }
   ],
   "source": [
    "# Create the Agent and let it train\n",
    "agent = Agent(config=config, \n",
    "                state_size=state_size, \n",
    "                action_size=action_size, \n",
    "                num_agents=num_agents, \n",
    "                seed=1234)\n",
    "\n",
    "# Train the agent and save the scores for later analysis\n",
    "scores = train_agent(n_episodes=n_episodes)"
   ]
  },
  {
   "cell_type": "markdown",
   "metadata": {},
   "source": [
    "I had a minor bug in the training function with the final break-criteria and I didn't wanted to train all over again. It took about 240ep to solve this environment."
   ]
  },
  {
   "cell_type": "markdown",
   "metadata": {},
   "source": [
    "### 4. Whatch trained agents\n",
    "Next we can watch a trained agent control 20 robotic arms for `n_episodes_to_watch` episodes. Therefore we load the model-parameters, reset the environment and loop through the specified number of episodes only using the calculated actions without any random noise. "
   ]
  },
  {
   "cell_type": "code",
   "execution_count": 8,
   "metadata": {},
   "outputs": [
    {
     "name": "stdout",
     "output_type": "stream",
     "text": [
      "Avg. score: 35.9\n"
     ]
    }
   ],
   "source": [
    "agent = Agent(config=config, \n",
    "              state_size=state_size, \n",
    "              action_size=action_size, \n",
    "              num_agents=num_agents, \n",
    "              seed=0)\n",
    "agent.actor.load_state_dict(torch.load(\"checkpoint_actor.pth\", map_location=agent.config.device))\n",
    "agent.critic.load_state_dict(torch.load(\"checkpoint_critic.pth\", map_location=agent.config.device))\n",
    "agent.is_training = False\n",
    "\n",
    "scores = []                            # list containing scores from each episode\n",
    "for i_episode in range(1, n_episodes_to_watch+1):    # Loop through five episodes\n",
    "    env_info = env.reset(train_mode=False)[brain_name] # reset the environment\n",
    "    state = env_info.vector_observations\n",
    "    score = np.zeros(num_agents)\n",
    "    while True:\n",
    "        action = agent.act(state)\n",
    "        \n",
    "        env_info = env.step(action)[brain_name]        # send the action to the environment\n",
    "        state = env_info.vector_observations             # get the next state\n",
    "        reward = env_info.rewards                        # get the reward\n",
    "        done = env_info.local_done                       # see if episode has finished\n",
    "\n",
    "        score += reward                                     # update the score\n",
    "\n",
    "        if np.any(done):\n",
    "            break \n",
    "    scores.append(np.mean(score))              # save most recent score\n",
    "print(f\"Avg. score: {np.mean(scores):.3}\")"
   ]
  },
  {
   "cell_type": "markdown",
   "metadata": {},
   "source": [
    "### 5. Plot the learning-curve\n",
    "In the last section we want to take a look at the learning curve. For orientation the goal-score (30) is also plottet."
   ]
  },
  {
   "cell_type": "code",
   "execution_count": 11,
   "metadata": {},
   "outputs": [
    {
     "data": {
      "text/plain": [
       "Text(0, 0.5, 'Score')"
      ]
     },
     "execution_count": 11,
     "metadata": {},
     "output_type": "execute_result"
    },
    {
     "data": {
      "image/png": "[encoded data removed]",
      "text/plain": [
       "<Figure size 432x288 with 1 Axes>"
      ]
     },
     "metadata": {
      "needs_background": "light"
     },
     "output_type": "display_data"
    }
   ],
   "source": [
    "training_scores = pickle.load(open(f\"Scores.pkl\", 'rb'))\n",
    "plt.plot(range(1,len(training_scores)+1), training_scores, 'b')\n",
    "plt.plot(np.ones(len(training_scores))*30, 'k--')\n",
    "plt.xlabel('Episodes')\n",
    "plt.ylabel('Score')"
   ]
  },
  {
   "cell_type": "markdown",
   "metadata": {},
   "source": [
    "### 6. Close the environment"
   ]
  },
  {
   "cell_type": "code",
   "execution_count": 12,
   "metadata": {},
   "outputs": [],
   "source": [
    "env.close()"
   ]
  },
  {
   "cell_type": "code",
   "execution_count": null,
   "metadata": {},
   "outputs": [],
   "source": []
  }
 ],
 "metadata": {
  "kernelspec": {
   "display_name": "Python 3",
   "language": "python",
   "name": "python3"
  },
  "language_info": {
   "codemirror_mode": {
    "name": "ipython",
    "version": 3
   },
   "file_extension": ".py",
   "mimetype": "text/x-python",
   "name": "python",
   "nbconvert_exporter": "python",
   "pygments_lexer": "ipython3",
   "version": "3.6.8"
  }
 },
 "nbformat": 4,
 "nbformat_minor": 2
}
